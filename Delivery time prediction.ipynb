{
 "cells": [
  {
   "cell_type": "markdown",
   "id": "8aa10af7",
   "metadata": {},
   "source": [
    "##  FOOD DELIVERY TIME PREDICTION USING ... "
   ]
  },
  {
   "cell_type": "markdown",
   "id": "6f790b38",
   "metadata": {},
   "source": [
    "### Distance formula and fuction to calculate distance from latitude and longitude"
   ]
  },
  {
   "cell_type": "code",
   "execution_count": 1,
   "id": "347f6bf5",
   "metadata": {},
   "outputs": [],
   "source": [
    "from math import radians, cos, sin, asin, sqrt\n",
    "def distance(lat1, lat2, lon1, lon2):\n",
    "    lon1 = radians(lon1)\n",
    "    lon2 = radians(lon2)\n",
    "    lat1 = radians(lat1)\n",
    "    lat2 = radians(lat2)\n",
    "\n",
    "    dlon = lon2 - lon1\n",
    "    dlat = lat2 - lat1\n",
    "    a = sin(dlat / 2)**2 + cos(lat1) * cos(lat2) * sin(dlon / 2)**2\n",
    "    c = 2 * asin(sqrt(a))\n",
    "    r = 6371\n",
    "    return(c * r)"
   ]
  },
  {
   "cell_type": "markdown",
   "id": "7dcef8a3",
   "metadata": {},
   "source": [
    "### importing files as pandas dataframe"
   ]
  },
  {
   "cell_type": "code",
   "execution_count": 2,
   "id": "07ecfbc6",
   "metadata": {
    "scrolled": true
   },
   "outputs": [
    {
     "data": {
      "text/html": [
       "<div>\n",
       "<style scoped>\n",
       "    .dataframe tbody tr th:only-of-type {\n",
       "        vertical-align: middle;\n",
       "    }\n",
       "\n",
       "    .dataframe tbody tr th {\n",
       "        vertical-align: top;\n",
       "    }\n",
       "\n",
       "    .dataframe thead th {\n",
       "        text-align: right;\n",
       "    }\n",
       "</style>\n",
       "<table border=\"1\" class=\"dataframe\">\n",
       "  <thead>\n",
       "    <tr style=\"text-align: right;\">\n",
       "      <th></th>\n",
       "      <th>ID</th>\n",
       "      <th>Delivery_person_ID</th>\n",
       "      <th>Delivery_person_Age</th>\n",
       "      <th>Delivery_person_Ratings</th>\n",
       "      <th>Restaurant_latitude</th>\n",
       "      <th>Restaurant_longitude</th>\n",
       "      <th>Delivery_location_latitude</th>\n",
       "      <th>Delivery_location_longitude</th>\n",
       "      <th>Order_Date</th>\n",
       "      <th>Time_Orderd</th>\n",
       "      <th>Time_Order_picked</th>\n",
       "      <th>Weatherconditions</th>\n",
       "      <th>Road_traffic_density</th>\n",
       "      <th>Vehicle_condition</th>\n",
       "      <th>Type_of_order</th>\n",
       "      <th>Type_of_vehicle</th>\n",
       "      <th>multiple_deliveries</th>\n",
       "      <th>Festival</th>\n",
       "      <th>City</th>\n",
       "      <th>Time_taken(min)</th>\n",
       "    </tr>\n",
       "  </thead>\n",
       "  <tbody>\n",
       "    <tr>\n",
       "      <th>0</th>\n",
       "      <td>0x4607</td>\n",
       "      <td>INDORES13DEL02</td>\n",
       "      <td>37</td>\n",
       "      <td>4.9</td>\n",
       "      <td>22.745049</td>\n",
       "      <td>75.892471</td>\n",
       "      <td>22.765049</td>\n",
       "      <td>75.912471</td>\n",
       "      <td>19-03-2022</td>\n",
       "      <td>11:30:00</td>\n",
       "      <td>11:45:00</td>\n",
       "      <td>conditions Sunny</td>\n",
       "      <td>High</td>\n",
       "      <td>2</td>\n",
       "      <td>Snack</td>\n",
       "      <td>motorcycle</td>\n",
       "      <td>0</td>\n",
       "      <td>No</td>\n",
       "      <td>Urban</td>\n",
       "      <td>(min) 24</td>\n",
       "    </tr>\n",
       "    <tr>\n",
       "      <th>1</th>\n",
       "      <td>0xb379</td>\n",
       "      <td>BANGRES18DEL02</td>\n",
       "      <td>34</td>\n",
       "      <td>4.5</td>\n",
       "      <td>12.913041</td>\n",
       "      <td>77.683237</td>\n",
       "      <td>13.043041</td>\n",
       "      <td>77.813237</td>\n",
       "      <td>25-03-2022</td>\n",
       "      <td>19:45:00</td>\n",
       "      <td>19:50:00</td>\n",
       "      <td>conditions Stormy</td>\n",
       "      <td>Jam</td>\n",
       "      <td>2</td>\n",
       "      <td>Snack</td>\n",
       "      <td>scooter</td>\n",
       "      <td>1</td>\n",
       "      <td>No</td>\n",
       "      <td>Metropolitian</td>\n",
       "      <td>(min) 33</td>\n",
       "    </tr>\n",
       "    <tr>\n",
       "      <th>2</th>\n",
       "      <td>0x5d6d</td>\n",
       "      <td>BANGRES19DEL01</td>\n",
       "      <td>23</td>\n",
       "      <td>4.4</td>\n",
       "      <td>12.914264</td>\n",
       "      <td>77.678400</td>\n",
       "      <td>12.924264</td>\n",
       "      <td>77.688400</td>\n",
       "      <td>19-03-2022</td>\n",
       "      <td>08:30:00</td>\n",
       "      <td>08:45:00</td>\n",
       "      <td>conditions Sandstorms</td>\n",
       "      <td>Low</td>\n",
       "      <td>0</td>\n",
       "      <td>Drinks</td>\n",
       "      <td>motorcycle</td>\n",
       "      <td>1</td>\n",
       "      <td>No</td>\n",
       "      <td>Urban</td>\n",
       "      <td>(min) 26</td>\n",
       "    </tr>\n",
       "    <tr>\n",
       "      <th>3</th>\n",
       "      <td>0x7a6a</td>\n",
       "      <td>COIMBRES13DEL02</td>\n",
       "      <td>38</td>\n",
       "      <td>4.7</td>\n",
       "      <td>11.003669</td>\n",
       "      <td>76.976494</td>\n",
       "      <td>11.053669</td>\n",
       "      <td>77.026494</td>\n",
       "      <td>05-04-2022</td>\n",
       "      <td>18:00:00</td>\n",
       "      <td>18:10:00</td>\n",
       "      <td>conditions Sunny</td>\n",
       "      <td>Medium</td>\n",
       "      <td>0</td>\n",
       "      <td>Buffet</td>\n",
       "      <td>motorcycle</td>\n",
       "      <td>1</td>\n",
       "      <td>No</td>\n",
       "      <td>Metropolitian</td>\n",
       "      <td>(min) 21</td>\n",
       "    </tr>\n",
       "    <tr>\n",
       "      <th>4</th>\n",
       "      <td>0x70a2</td>\n",
       "      <td>CHENRES12DEL01</td>\n",
       "      <td>32</td>\n",
       "      <td>4.6</td>\n",
       "      <td>12.972793</td>\n",
       "      <td>80.249982</td>\n",
       "      <td>13.012793</td>\n",
       "      <td>80.289982</td>\n",
       "      <td>26-03-2022</td>\n",
       "      <td>13:30:00</td>\n",
       "      <td>13:45:00</td>\n",
       "      <td>conditions Cloudy</td>\n",
       "      <td>High</td>\n",
       "      <td>1</td>\n",
       "      <td>Snack</td>\n",
       "      <td>scooter</td>\n",
       "      <td>1</td>\n",
       "      <td>No</td>\n",
       "      <td>Metropolitian</td>\n",
       "      <td>(min) 30</td>\n",
       "    </tr>\n",
       "  </tbody>\n",
       "</table>\n",
       "</div>"
      ],
      "text/plain": [
       "        ID Delivery_person_ID Delivery_person_Age Delivery_person_Ratings  \\\n",
       "0  0x4607     INDORES13DEL02                   37                     4.9   \n",
       "1  0xb379     BANGRES18DEL02                   34                     4.5   \n",
       "2  0x5d6d     BANGRES19DEL01                   23                     4.4   \n",
       "3  0x7a6a    COIMBRES13DEL02                   38                     4.7   \n",
       "4  0x70a2     CHENRES12DEL01                   32                     4.6   \n",
       "\n",
       "   Restaurant_latitude  Restaurant_longitude  Delivery_location_latitude  \\\n",
       "0            22.745049             75.892471                   22.765049   \n",
       "1            12.913041             77.683237                   13.043041   \n",
       "2            12.914264             77.678400                   12.924264   \n",
       "3            11.003669             76.976494                   11.053669   \n",
       "4            12.972793             80.249982                   13.012793   \n",
       "\n",
       "   Delivery_location_longitude  Order_Date Time_Orderd Time_Order_picked  \\\n",
       "0                    75.912471  19-03-2022    11:30:00          11:45:00   \n",
       "1                    77.813237  25-03-2022    19:45:00          19:50:00   \n",
       "2                    77.688400  19-03-2022    08:30:00          08:45:00   \n",
       "3                    77.026494  05-04-2022    18:00:00          18:10:00   \n",
       "4                    80.289982  26-03-2022    13:30:00          13:45:00   \n",
       "\n",
       "       Weatherconditions Road_traffic_density  Vehicle_condition  \\\n",
       "0       conditions Sunny                High                   2   \n",
       "1      conditions Stormy                 Jam                   2   \n",
       "2  conditions Sandstorms                 Low                   0   \n",
       "3       conditions Sunny              Medium                   0   \n",
       "4      conditions Cloudy                High                   1   \n",
       "\n",
       "  Type_of_order Type_of_vehicle multiple_deliveries Festival            City  \\\n",
       "0        Snack      motorcycle                    0      No           Urban    \n",
       "1        Snack         scooter                    1      No   Metropolitian    \n",
       "2       Drinks      motorcycle                    1      No           Urban    \n",
       "3       Buffet      motorcycle                    1      No   Metropolitian    \n",
       "4        Snack         scooter                    1      No   Metropolitian    \n",
       "\n",
       "  Time_taken(min)  \n",
       "0        (min) 24  \n",
       "1        (min) 33  \n",
       "2        (min) 26  \n",
       "3        (min) 21  \n",
       "4        (min) 30  "
      ]
     },
     "execution_count": 2,
     "metadata": {},
     "output_type": "execute_result"
    }
   ],
   "source": [
    "import pandas as pd\n",
    "df = pd.read_csv(\"train.csv\")\n",
    "df.head(5)"
   ]
  },
  {
   "cell_type": "code",
   "execution_count": 3,
   "id": "7db7d0f6",
   "metadata": {},
   "outputs": [],
   "source": [
    "df[\"Distance\"] = df.apply(lambda x: distance(x[\"Restaurant_latitude\"],x[\"Delivery_location_latitude\"],x[\"Restaurant_longitude\"],x[\"Delivery_location_longitude\"]),axis= 1)"
   ]
  },
  {
   "cell_type": "code",
   "execution_count": 4,
   "id": "9c120e51",
   "metadata": {},
   "outputs": [],
   "source": [
    "d = [\"Restaurant_longitude\",\"Delivery_person_ID\",\"Restaurant_latitude\",\"Delivery_location_latitude\",\"Delivery_location_longitude\",\"Order_Date\",\"Time_Orderd\",'Time_Order_picked']"
   ]
  },
  {
   "cell_type": "code",
   "execution_count": 5,
   "id": "8a5b5559",
   "metadata": {},
   "outputs": [],
   "source": [
    "for i in d:\n",
    "    df = df.drop(i,axis = 1)"
   ]
  },
  {
   "cell_type": "code",
   "execution_count": 6,
   "id": "e513a35e",
   "metadata": {},
   "outputs": [
    {
     "data": {
      "text/plain": [
       "Index(['ID', 'Delivery_person_Age', 'Delivery_person_Ratings',\n",
       "       'Weatherconditions', 'Road_traffic_density', 'Vehicle_condition',\n",
       "       'Type_of_order', 'Type_of_vehicle', 'multiple_deliveries', 'Festival',\n",
       "       'City', 'Time_taken(min)', 'Distance'],\n",
       "      dtype='object')"
      ]
     },
     "execution_count": 6,
     "metadata": {},
     "output_type": "execute_result"
    }
   ],
   "source": [
    "col = df.columns\n",
    "col"
   ]
  },
  {
   "cell_type": "code",
   "execution_count": 7,
   "id": "ee675a94",
   "metadata": {},
   "outputs": [],
   "source": [
    "for i in col:\n",
    "    if(df[i].dtype == 'object'):\n",
    "        df[i] = df[i].astype(str)\n",
    "        df[i] = df[i].str.strip()        "
   ]
  },
  {
   "cell_type": "markdown",
   "id": "cca637e7",
   "metadata": {},
   "source": [
    "## Time taken"
   ]
  },
  {
   "cell_type": "code",
   "execution_count": 8,
   "id": "3b4bb14f",
   "metadata": {},
   "outputs": [],
   "source": [
    "df[\"time\"] = df['Time_taken(min)'].apply(lambda x: x[6:])"
   ]
  },
  {
   "cell_type": "markdown",
   "id": "32442c67",
   "metadata": {},
   "source": [
    "## converting Dtype to float"
   ]
  },
  {
   "cell_type": "code",
   "execution_count": 9,
   "id": "fafcd5c1",
   "metadata": {},
   "outputs": [],
   "source": [
    "intcol = [ \"Delivery_person_Age\",'Delivery_person_Ratings','Vehicle_condition','multiple_deliveries','Distance']\n",
    "for i in intcol:\n",
    "    df[i] = df[i].astype(str).astype(float)"
   ]
  },
  {
   "cell_type": "code",
   "execution_count": 10,
   "id": "9045288b",
   "metadata": {},
   "outputs": [
    {
     "data": {
      "text/plain": [
       "Delivery_person_Ratings    1908\n",
       "Delivery_person_Age        1854\n",
       "multiple_deliveries         993\n",
       "ID                            0\n",
       "Weatherconditions             0\n",
       "Road_traffic_density          0\n",
       "Vehicle_condition             0\n",
       "Type_of_order                 0\n",
       "Type_of_vehicle               0\n",
       "Festival                      0\n",
       "City                          0\n",
       "Time_taken(min)               0\n",
       "Distance                      0\n",
       "time                          0\n",
       "dtype: int64"
      ]
     },
     "execution_count": 10,
     "metadata": {},
     "output_type": "execute_result"
    }
   ],
   "source": [
    "total = df.isnull().sum().sort_values(ascending=False)\n",
    "total"
   ]
  },
  {
   "cell_type": "code",
   "execution_count": 11,
   "id": "21ea0dff",
   "metadata": {},
   "outputs": [],
   "source": [
    "df = df.dropna()"
   ]
  },
  {
   "cell_type": "code",
   "execution_count": 12,
   "id": "6d36bb19",
   "metadata": {},
   "outputs": [
    {
     "data": {
      "text/plain": [
       "ID                         0\n",
       "Delivery_person_Age        0\n",
       "Delivery_person_Ratings    0\n",
       "Weatherconditions          0\n",
       "Road_traffic_density       0\n",
       "Vehicle_condition          0\n",
       "Type_of_order              0\n",
       "Type_of_vehicle            0\n",
       "multiple_deliveries        0\n",
       "Festival                   0\n",
       "City                       0\n",
       "Time_taken(min)            0\n",
       "Distance                   0\n",
       "time                       0\n",
       "dtype: int64"
      ]
     },
     "execution_count": 12,
     "metadata": {},
     "output_type": "execute_result"
    }
   ],
   "source": [
    "total = df.isnull().sum().sort_values(ascending=False)\n",
    "total"
   ]
  },
  {
   "cell_type": "code",
   "execution_count": 13,
   "id": "79a8064a",
   "metadata": {},
   "outputs": [],
   "source": [
    "import matplotlib.pyplot as plt"
   ]
  },
  {
   "cell_type": "markdown",
   "id": "609ebee0",
   "metadata": {},
   "source": [
    "## 1.  Weatherconditions "
   ]
  },
  {
   "cell_type": "code",
   "execution_count": 14,
   "id": "ff396481",
   "metadata": {},
   "outputs": [
    {
     "name": "stdout",
     "output_type": "stream",
     "text": [
      "['Sunny' 'Stormy' 'Sandstorms' 'Cloudy' 'Fog' 'Windy' 'NaN']\n",
      "\n",
      "Null values in Weather column  91\n",
      "0 - Sunny\n",
      "2 - Stormy\n",
      "4 - Sandstorms\n",
      "0 - Cloudy\n",
      "3 - Fog\n",
      "1 - Windy\n"
     ]
    }
   ],
   "source": [
    "df['Weather'] = df['Weatherconditions'].apply(lambda x: x[11:])\n",
    "print(df[\"Weather\"].unique())\n",
    "w = {'Sunny':0, 'Stormy':2, 'Sandstorms':4, 'Cloudy':0, 'Fog':3, 'Windy':1}\n",
    "df['Weather'] = df['Weather'].map(w) \n",
    "print(\"\\nNull values in Weather column \",df['Weather'].isnull().sum())\n",
    "for (i,j) in w.items():\n",
    "    print(j,\"-\",i)"
   ]
  },
  {
   "cell_type": "code",
   "execution_count": null,
   "id": "ff155276",
   "metadata": {},
   "outputs": [],
   "source": []
  },
  {
   "cell_type": "markdown",
   "id": "8541f7c4",
   "metadata": {},
   "source": [
    "## 2.  Road_traffic_density"
   ]
  },
  {
   "cell_type": "code",
   "execution_count": 15,
   "id": "ce38e3c3",
   "metadata": {
    "scrolled": true
   },
   "outputs": [
    {
     "name": "stdout",
     "output_type": "stream",
     "text": [
      "['High' 'Jam' 'Low' 'Medium' 'NaN']\n",
      "\n",
      "Null values in Traffic column  91\n",
      "0 - Low\n",
      "1 - Medium\n",
      "2 - High\n",
      "3 - Jam\n"
     ]
    }
   ],
   "source": [
    "print(df[\"Road_traffic_density\"].unique())\n",
    "t = {\"Low\": 0, \"Medium\": 1,\"High\" : 2, \"Jam\" : 3}\n",
    "df[\"Traffic\"] = df[\"Road_traffic_density\"].map(t)\n",
    "print(\"\\nNull values in Traffic column \",df['Traffic'].isnull().sum())\n",
    "for (i,j) in t.items():\n",
    "    print(j,\"-\",i)"
   ]
  },
  {
   "cell_type": "markdown",
   "id": "f66d059d",
   "metadata": {},
   "source": [
    "## 3. Type_of_order"
   ]
  },
  {
   "cell_type": "code",
   "execution_count": 16,
   "id": "ae1caf58",
   "metadata": {
    "scrolled": true
   },
   "outputs": [
    {
     "name": "stdout",
     "output_type": "stream",
     "text": [
      "['Snack' 'Drinks' 'Buffet' 'Meal']\n",
      "\n",
      "Null values in Type_of_order column  0\n",
      "1 - Snack\n",
      "0 - Drinks\n",
      "3 - Buffet\n",
      "2 - Meal\n"
     ]
    }
   ],
   "source": [
    "print(df['Type_of_order'].unique())\n",
    "t = {'Snack':1, 'Drinks':0, 'Buffet':3, 'Meal':2}\n",
    "df['Type_of_order'] = df['Type_of_order'].map(t)\n",
    "print(\"\\nNull values in Type_of_order column \",df['Type_of_order'].isnull().sum())\n",
    "for (i,j) in t.items():\n",
    "    print(j,\"-\",i)"
   ]
  },
  {
   "cell_type": "markdown",
   "id": "5638163f",
   "metadata": {},
   "source": [
    "## 4. Type_of_vehicle"
   ]
  },
  {
   "cell_type": "code",
   "execution_count": 17,
   "id": "68e0f256",
   "metadata": {
    "scrolled": true
   },
   "outputs": [
    {
     "name": "stdout",
     "output_type": "stream",
     "text": [
      "['motorcycle' 'scooter' 'electric_scooter' 'bicycle']\n",
      "\n",
      "Null values in vehicle column  0\n",
      "3 - motorcycle\n",
      "2 - scooter\n",
      "1 - electric_scooter\n",
      "0 - bicycle\n"
     ]
    }
   ],
   "source": [
    "print(df[\"Type_of_vehicle\"].unique())\n",
    "v = {'motorcycle' : 3,'scooter' : 2,'electric_scooter' : 1,'bicycle' : 0}\n",
    "df[\"vehicle\"] = df[\"Type_of_vehicle\"].map(v)\n",
    "print(\"\\nNull values in vehicle column \",df['vehicle'].isnull().sum())\n",
    "for (i,j) in v.items():\n",
    "    print(j,\"-\",i)"
   ]
  },
  {
   "cell_type": "markdown",
   "id": "093cdce9",
   "metadata": {},
   "source": [
    "## 5. Festival"
   ]
  },
  {
   "cell_type": "code",
   "execution_count": 18,
   "id": "1e181832",
   "metadata": {},
   "outputs": [
    {
     "name": "stdout",
     "output_type": "stream",
     "text": [
      "\n",
      "Null values in Festival_bin column  208\n",
      "0 - No\n",
      "1 - Yes\n"
     ]
    }
   ],
   "source": [
    "#print(df[\"Festival\"].unique())\n",
    "f = {\"No\": 0, \"Yes\": 1}\n",
    "df [\"Festival_bin\"] = df[\"Festival\"].map(f)\n",
    "print(\"\\nNull values in Festival_bin column \",df['Festival_bin'].isnull().sum())\n",
    "for (i,j) in f.items():\n",
    "    print(j,\"-\",i)"
   ]
  },
  {
   "cell_type": "code",
   "execution_count": 19,
   "id": "27cd018f",
   "metadata": {},
   "outputs": [
    {
     "data": {
      "image/png": "[encoded data removed]",
      "text/plain": [
       "<Figure size 640x480 with 1 Axes>"
      ]
     },
     "metadata": {},
     "output_type": "display_data"
    }
   ],
   "source": [
    "df[['Festival_bin','time']].groupby(['Festival_bin']).mean().plot.bar()\n",
    "plt.title(\"Festival vs  time\")\n",
    "plt.ylabel('Time')\n",
    "plt.xlabel(\"0 - no Festival 1 - Festival\")\n",
    "plt.show()"
   ]
  },
  {
   "cell_type": "markdown",
   "id": "3cfbd56a",
   "metadata": {},
   "source": [
    "## 6. City"
   ]
  },
  {
   "cell_type": "code",
   "execution_count": 20,
   "id": "bf3aa71d",
   "metadata": {},
   "outputs": [
    {
     "name": "stdout",
     "output_type": "stream",
     "text": [
      "['Urban' 'Metropolitian' 'Semi-Urban' 'NaN']\n",
      "\n",
      "Null values in City column  1104\n",
      "0 - Semi-Urban\n",
      "1 - Urban\n",
      "2 - Metropolitian\n"
     ]
    }
   ],
   "source": [
    "print(df[\"City\"].unique())\n",
    "c = {'Semi-Urban':0,'Urban':1,'Metropolitian':2}\n",
    "df['City'] = df['City'].map(c)\n",
    "print(\"\\nNull values in City column \",df['City'].isnull().sum())\n",
    "for (i,j) in c.items():\n",
    "    print(j,\"-\",i)"
   ]
  },
  {
   "cell_type": "markdown",
   "id": "91895f55",
   "metadata": {},
   "source": [
    "## 6. time"
   ]
  },
  {
   "cell_type": "code",
   "execution_count": 21,
   "id": "8790c421",
   "metadata": {},
   "outputs": [
    {
     "data": {
      "text/html": [
       "<div>\n",
       "<style scoped>\n",
       "    .dataframe tbody tr th:only-of-type {\n",
       "        vertical-align: middle;\n",
       "    }\n",
       "\n",
       "    .dataframe tbody tr th {\n",
       "        vertical-align: top;\n",
       "    }\n",
       "\n",
       "    .dataframe thead th {\n",
       "        text-align: right;\n",
       "    }\n",
       "</style>\n",
       "<table border=\"1\" class=\"dataframe\">\n",
       "  <thead>\n",
       "    <tr style=\"text-align: right;\">\n",
       "      <th></th>\n",
       "      <th>Delivery_person_Age</th>\n",
       "      <th>Delivery_person_Ratings</th>\n",
       "      <th>Vehicle_condition</th>\n",
       "      <th>Type_of_order</th>\n",
       "      <th>multiple_deliveries</th>\n",
       "      <th>City</th>\n",
       "      <th>Distance</th>\n",
       "      <th>time</th>\n",
       "      <th>Weather</th>\n",
       "      <th>Traffic</th>\n",
       "      <th>vehicle</th>\n",
       "      <th>Festival_bin</th>\n",
       "    </tr>\n",
       "  </thead>\n",
       "  <tbody>\n",
       "    <tr>\n",
       "      <th>Delivery_person_Age</th>\n",
       "      <td>1.000000</td>\n",
       "      <td>-0.066546</td>\n",
       "      <td>0.003611</td>\n",
       "      <td>0.005298</td>\n",
       "      <td>0.115949</td>\n",
       "      <td>0.053967</td>\n",
       "      <td>0.041243</td>\n",
       "      <td>0.298119</td>\n",
       "      <td>-0.007064</td>\n",
       "      <td>0.001529</td>\n",
       "      <td>-0.004401</td>\n",
       "      <td>0.058074</td>\n",
       "    </tr>\n",
       "    <tr>\n",
       "      <th>Delivery_person_Ratings</th>\n",
       "      <td>-0.066546</td>\n",
       "      <td>1.000000</td>\n",
       "      <td>0.033631</td>\n",
       "      <td>0.000572</td>\n",
       "      <td>-0.117647</td>\n",
       "      <td>-0.049241</td>\n",
       "      <td>-0.001626</td>\n",
       "      <td>-0.338246</td>\n",
       "      <td>-0.031215</td>\n",
       "      <td>-0.069045</td>\n",
       "      <td>-0.017213</td>\n",
       "      <td>-0.059786</td>\n",
       "    </tr>\n",
       "    <tr>\n",
       "      <th>Vehicle_condition</th>\n",
       "      <td>0.003611</td>\n",
       "      <td>0.033631</td>\n",
       "      <td>1.000000</td>\n",
       "      <td>-0.006974</td>\n",
       "      <td>-0.102925</td>\n",
       "      <td>-0.028734</td>\n",
       "      <td>0.054714</td>\n",
       "      <td>-0.242838</td>\n",
       "      <td>-0.001206</td>\n",
       "      <td>0.011059</td>\n",
       "      <td>-0.633887</td>\n",
       "      <td>-0.084321</td>\n",
       "    </tr>\n",
       "    <tr>\n",
       "      <th>Type_of_order</th>\n",
       "      <td>0.005298</td>\n",
       "      <td>0.000572</td>\n",
       "      <td>-0.006974</td>\n",
       "      <td>1.000000</td>\n",
       "      <td>-0.002970</td>\n",
       "      <td>0.004451</td>\n",
       "      <td>-0.005591</td>\n",
       "      <td>0.005111</td>\n",
       "      <td>0.000196</td>\n",
       "      <td>0.000708</td>\n",
       "      <td>0.006441</td>\n",
       "      <td>-0.002811</td>\n",
       "    </tr>\n",
       "    <tr>\n",
       "      <th>multiple_deliveries</th>\n",
       "      <td>0.115949</td>\n",
       "      <td>-0.117647</td>\n",
       "      <td>-0.102925</td>\n",
       "      <td>-0.002970</td>\n",
       "      <td>1.000000</td>\n",
       "      <td>0.051576</td>\n",
       "      <td>-0.003823</td>\n",
       "      <td>0.388254</td>\n",
       "      <td>0.018240</td>\n",
       "      <td>0.161393</td>\n",
       "      <td>0.067574</td>\n",
       "      <td>0.142128</td>\n",
       "    </tr>\n",
       "    <tr>\n",
       "      <th>City</th>\n",
       "      <td>0.053967</td>\n",
       "      <td>-0.049241</td>\n",
       "      <td>-0.028734</td>\n",
       "      <td>0.004451</td>\n",
       "      <td>0.051576</td>\n",
       "      <td>1.000000</td>\n",
       "      <td>-0.003515</td>\n",
       "      <td>0.148695</td>\n",
       "      <td>0.016406</td>\n",
       "      <td>0.057790</td>\n",
       "      <td>0.015483</td>\n",
       "      <td>0.003509</td>\n",
       "    </tr>\n",
       "    <tr>\n",
       "      <th>Distance</th>\n",
       "      <td>0.041243</td>\n",
       "      <td>-0.001626</td>\n",
       "      <td>0.054714</td>\n",
       "      <td>-0.005591</td>\n",
       "      <td>-0.003823</td>\n",
       "      <td>-0.003515</td>\n",
       "      <td>1.000000</td>\n",
       "      <td>-0.005431</td>\n",
       "      <td>0.000839</td>\n",
       "      <td>0.001226</td>\n",
       "      <td>-0.038381</td>\n",
       "      <td>-0.000734</td>\n",
       "    </tr>\n",
       "    <tr>\n",
       "      <th>time</th>\n",
       "      <td>0.298119</td>\n",
       "      <td>-0.338246</td>\n",
       "      <td>-0.242838</td>\n",
       "      <td>0.005111</td>\n",
       "      <td>0.388254</td>\n",
       "      <td>0.148695</td>\n",
       "      <td>-0.005431</td>\n",
       "      <td>1.000000</td>\n",
       "      <td>0.064788</td>\n",
       "      <td>0.417415</td>\n",
       "      <td>0.152911</td>\n",
       "      <td>0.291123</td>\n",
       "    </tr>\n",
       "    <tr>\n",
       "      <th>Weather</th>\n",
       "      <td>-0.007064</td>\n",
       "      <td>-0.031215</td>\n",
       "      <td>-0.001206</td>\n",
       "      <td>0.000196</td>\n",
       "      <td>0.018240</td>\n",
       "      <td>0.016406</td>\n",
       "      <td>0.000839</td>\n",
       "      <td>0.064788</td>\n",
       "      <td>1.000000</td>\n",
       "      <td>0.001881</td>\n",
       "      <td>0.000242</td>\n",
       "      <td>-0.003277</td>\n",
       "    </tr>\n",
       "    <tr>\n",
       "      <th>Traffic</th>\n",
       "      <td>0.001529</td>\n",
       "      <td>-0.069045</td>\n",
       "      <td>0.011059</td>\n",
       "      <td>0.000708</td>\n",
       "      <td>0.161393</td>\n",
       "      <td>0.057790</td>\n",
       "      <td>0.001226</td>\n",
       "      <td>0.417415</td>\n",
       "      <td>0.001881</td>\n",
       "      <td>1.000000</td>\n",
       "      <td>-0.006622</td>\n",
       "      <td>0.122358</td>\n",
       "    </tr>\n",
       "    <tr>\n",
       "      <th>vehicle</th>\n",
       "      <td>-0.004401</td>\n",
       "      <td>-0.017213</td>\n",
       "      <td>-0.633887</td>\n",
       "      <td>0.006441</td>\n",
       "      <td>0.067574</td>\n",
       "      <td>0.015483</td>\n",
       "      <td>-0.038381</td>\n",
       "      <td>0.152911</td>\n",
       "      <td>0.000242</td>\n",
       "      <td>-0.006622</td>\n",
       "      <td>1.000000</td>\n",
       "      <td>0.053708</td>\n",
       "    </tr>\n",
       "    <tr>\n",
       "      <th>Festival_bin</th>\n",
       "      <td>0.058074</td>\n",
       "      <td>-0.059786</td>\n",
       "      <td>-0.084321</td>\n",
       "      <td>-0.002811</td>\n",
       "      <td>0.142128</td>\n",
       "      <td>0.003509</td>\n",
       "      <td>-0.000734</td>\n",
       "      <td>0.291123</td>\n",
       "      <td>-0.003277</td>\n",
       "      <td>0.122358</td>\n",
       "      <td>0.053708</td>\n",
       "      <td>1.000000</td>\n",
       "    </tr>\n",
       "  </tbody>\n",
       "</table>\n",
       "</div>"
      ],
      "text/plain": [
       "                         Delivery_person_Age  Delivery_person_Ratings  \\\n",
       "Delivery_person_Age                 1.000000                -0.066546   \n",
       "Delivery_person_Ratings            -0.066546                 1.000000   \n",
       "Vehicle_condition                   0.003611                 0.033631   \n",
       "Type_of_order                       0.005298                 0.000572   \n",
       "multiple_deliveries                 0.115949                -0.117647   \n",
       "City                                0.053967                -0.049241   \n",
       "Distance                            0.041243                -0.001626   \n",
       "time                                0.298119                -0.338246   \n",
       "Weather                            -0.007064                -0.031215   \n",
       "Traffic                             0.001529                -0.069045   \n",
       "vehicle                            -0.004401                -0.017213   \n",
       "Festival_bin                        0.058074                -0.059786   \n",
       "\n",
       "                         Vehicle_condition  Type_of_order  \\\n",
       "Delivery_person_Age               0.003611       0.005298   \n",
       "Delivery_person_Ratings           0.033631       0.000572   \n",
       "Vehicle_condition                 1.000000      -0.006974   \n",
       "Type_of_order                    -0.006974       1.000000   \n",
       "multiple_deliveries              -0.102925      -0.002970   \n",
       "City                             -0.028734       0.004451   \n",
       "Distance                          0.054714      -0.005591   \n",
       "time                             -0.242838       0.005111   \n",
       "Weather                          -0.001206       0.000196   \n",
       "Traffic                           0.011059       0.000708   \n",
       "vehicle                          -0.633887       0.006441   \n",
       "Festival_bin                     -0.084321      -0.002811   \n",
       "\n",
       "                         multiple_deliveries      City  Distance      time  \\\n",
       "Delivery_person_Age                 0.115949  0.053967  0.041243  0.298119   \n",
       "Delivery_person_Ratings            -0.117647 -0.049241 -0.001626 -0.338246   \n",
       "Vehicle_condition                  -0.102925 -0.028734  0.054714 -0.242838   \n",
       "Type_of_order                      -0.002970  0.004451 -0.005591  0.005111   \n",
       "multiple_deliveries                 1.000000  0.051576 -0.003823  0.388254   \n",
       "City                                0.051576  1.000000 -0.003515  0.148695   \n",
       "Distance                           -0.003823 -0.003515  1.000000 -0.005431   \n",
       "time                                0.388254  0.148695 -0.005431  1.000000   \n",
       "Weather                             0.018240  0.016406  0.000839  0.064788   \n",
       "Traffic                             0.161393  0.057790  0.001226  0.417415   \n",
       "vehicle                             0.067574  0.015483 -0.038381  0.152911   \n",
       "Festival_bin                        0.142128  0.003509 -0.000734  0.291123   \n",
       "\n",
       "                          Weather   Traffic   vehicle  Festival_bin  \n",
       "Delivery_person_Age     -0.007064  0.001529 -0.004401      0.058074  \n",
       "Delivery_person_Ratings -0.031215 -0.069045 -0.017213     -0.059786  \n",
       "Vehicle_condition       -0.001206  0.011059 -0.633887     -0.084321  \n",
       "Type_of_order            0.000196  0.000708  0.006441     -0.002811  \n",
       "multiple_deliveries      0.018240  0.161393  0.067574      0.142128  \n",
       "City                     0.016406  0.057790  0.015483      0.003509  \n",
       "Distance                 0.000839  0.001226 -0.038381     -0.000734  \n",
       "time                     0.064788  0.417415  0.152911      0.291123  \n",
       "Weather                  1.000000  0.001881  0.000242     -0.003277  \n",
       "Traffic                  0.001881  1.000000 -0.006622      0.122358  \n",
       "vehicle                  0.000242 -0.006622  1.000000      0.053708  \n",
       "Festival_bin            -0.003277  0.122358  0.053708      1.000000  "
      ]
     },
     "execution_count": 21,
     "metadata": {},
     "output_type": "execute_result"
    }
   ],
   "source": [
    "df[\"time\"] = df['Time_taken(min)'].apply(lambda x: x[6:])\n",
    "df[\"time\"] = df[\"time\"].astype(str).astype(int)\n",
    "df.corr()"
   ]
  },
  {
   "cell_type": "code",
   "execution_count": 22,
   "id": "4b5e73ca",
   "metadata": {},
   "outputs": [
    {
     "data": {
      "text/plain": [
       "ID                            0\n",
       "Delivery_person_Age           0\n",
       "Delivery_person_Ratings       0\n",
       "Weatherconditions             0\n",
       "Road_traffic_density          0\n",
       "Vehicle_condition             0\n",
       "Type_of_order                 0\n",
       "Type_of_vehicle               0\n",
       "multiple_deliveries           0\n",
       "Festival                      0\n",
       "City                       1104\n",
       "Time_taken(min)               0\n",
       "Distance                      0\n",
       "time                          0\n",
       "Weather                      91\n",
       "Traffic                      91\n",
       "vehicle                       0\n",
       "Festival_bin                208\n",
       "dtype: int64"
      ]
     },
     "execution_count": 22,
     "metadata": {},
     "output_type": "execute_result"
    }
   ],
   "source": [
    "df.isnull().sum()"
   ]
  },
  {
   "cell_type": "code",
   "execution_count": 23,
   "id": "e06ee54b",
   "metadata": {},
   "outputs": [],
   "source": [
    "df = df.dropna()"
   ]
  },
  {
   "cell_type": "code",
   "execution_count": 24,
   "id": "b5cdde15",
   "metadata": {},
   "outputs": [
    {
     "data": {
      "text/plain": [
       "ID                         0\n",
       "Delivery_person_Age        0\n",
       "Delivery_person_Ratings    0\n",
       "Weatherconditions          0\n",
       "Road_traffic_density       0\n",
       "Vehicle_condition          0\n",
       "Type_of_order              0\n",
       "Type_of_vehicle            0\n",
       "multiple_deliveries        0\n",
       "Festival                   0\n",
       "City                       0\n",
       "Time_taken(min)            0\n",
       "Distance                   0\n",
       "time                       0\n",
       "Weather                    0\n",
       "Traffic                    0\n",
       "vehicle                    0\n",
       "Festival_bin               0\n",
       "dtype: int64"
      ]
     },
     "execution_count": 24,
     "metadata": {},
     "output_type": "execute_result"
    }
   ],
   "source": [
    "df.isnull().sum()"
   ]
  },
  {
   "cell_type": "code",
   "execution_count": 25,
   "id": "7cc5c359",
   "metadata": {
    "scrolled": true
   },
   "outputs": [
    {
     "data": {
      "text/html": [
       "<div>\n",
       "<style scoped>\n",
       "    .dataframe tbody tr th:only-of-type {\n",
       "        vertical-align: middle;\n",
       "    }\n",
       "\n",
       "    .dataframe tbody tr th {\n",
       "        vertical-align: top;\n",
       "    }\n",
       "\n",
       "    .dataframe thead th {\n",
       "        text-align: right;\n",
       "    }\n",
       "</style>\n",
       "<table border=\"1\" class=\"dataframe\">\n",
       "  <thead>\n",
       "    <tr style=\"text-align: right;\">\n",
       "      <th></th>\n",
       "      <th>Delivery_person_Age</th>\n",
       "      <th>Delivery_person_Ratings</th>\n",
       "      <th>Vehicle_condition</th>\n",
       "      <th>Type_of_order</th>\n",
       "      <th>multiple_deliveries</th>\n",
       "      <th>City</th>\n",
       "      <th>Distance</th>\n",
       "      <th>time</th>\n",
       "      <th>Weather</th>\n",
       "      <th>Traffic</th>\n",
       "      <th>vehicle</th>\n",
       "      <th>Festival_bin</th>\n",
       "    </tr>\n",
       "  </thead>\n",
       "  <tbody>\n",
       "    <tr>\n",
       "      <th>Delivery_person_Age</th>\n",
       "      <td>1.000000</td>\n",
       "      <td>-0.114824</td>\n",
       "      <td>0.001101</td>\n",
       "      <td>0.007579</td>\n",
       "      <td>0.114877</td>\n",
       "      <td>0.053179</td>\n",
       "      <td>0.001453</td>\n",
       "      <td>0.297270</td>\n",
       "      <td>-0.006669</td>\n",
       "      <td>0.001146</td>\n",
       "      <td>-0.001914</td>\n",
       "      <td>0.058782</td>\n",
       "    </tr>\n",
       "    <tr>\n",
       "      <th>Delivery_person_Ratings</th>\n",
       "      <td>-0.114824</td>\n",
       "      <td>1.000000</td>\n",
       "      <td>0.044343</td>\n",
       "      <td>0.001947</td>\n",
       "      <td>-0.125098</td>\n",
       "      <td>-0.052789</td>\n",
       "      <td>-0.003143</td>\n",
       "      <td>-0.359866</td>\n",
       "      <td>-0.029990</td>\n",
       "      <td>-0.068713</td>\n",
       "      <td>-0.025538</td>\n",
       "      <td>-0.062310</td>\n",
       "    </tr>\n",
       "    <tr>\n",
       "      <th>Vehicle_condition</th>\n",
       "      <td>0.001101</td>\n",
       "      <td>0.044343</td>\n",
       "      <td>1.000000</td>\n",
       "      <td>-0.005315</td>\n",
       "      <td>-0.101605</td>\n",
       "      <td>-0.027817</td>\n",
       "      <td>0.002538</td>\n",
       "      <td>-0.241702</td>\n",
       "      <td>0.000457</td>\n",
       "      <td>0.010025</td>\n",
       "      <td>-0.633257</td>\n",
       "      <td>-0.085538</td>\n",
       "    </tr>\n",
       "    <tr>\n",
       "      <th>Type_of_order</th>\n",
       "      <td>0.007579</td>\n",
       "      <td>0.001947</td>\n",
       "      <td>-0.005315</td>\n",
       "      <td>1.000000</td>\n",
       "      <td>-0.003443</td>\n",
       "      <td>0.004190</td>\n",
       "      <td>0.003582</td>\n",
       "      <td>0.004380</td>\n",
       "      <td>0.000665</td>\n",
       "      <td>-0.000872</td>\n",
       "      <td>0.005163</td>\n",
       "      <td>-0.003740</td>\n",
       "    </tr>\n",
       "    <tr>\n",
       "      <th>multiple_deliveries</th>\n",
       "      <td>0.114877</td>\n",
       "      <td>-0.125098</td>\n",
       "      <td>-0.101605</td>\n",
       "      <td>-0.003443</td>\n",
       "      <td>1.000000</td>\n",
       "      <td>0.049926</td>\n",
       "      <td>0.001036</td>\n",
       "      <td>0.385257</td>\n",
       "      <td>0.017844</td>\n",
       "      <td>0.160169</td>\n",
       "      <td>0.066861</td>\n",
       "      <td>0.142618</td>\n",
       "    </tr>\n",
       "    <tr>\n",
       "      <th>City</th>\n",
       "      <td>0.053179</td>\n",
       "      <td>-0.052789</td>\n",
       "      <td>-0.027817</td>\n",
       "      <td>0.004190</td>\n",
       "      <td>0.049926</td>\n",
       "      <td>1.000000</td>\n",
       "      <td>-0.002384</td>\n",
       "      <td>0.146029</td>\n",
       "      <td>0.015909</td>\n",
       "      <td>0.056934</td>\n",
       "      <td>0.015387</td>\n",
       "      <td>0.003298</td>\n",
       "    </tr>\n",
       "    <tr>\n",
       "      <th>Distance</th>\n",
       "      <td>0.001453</td>\n",
       "      <td>-0.003143</td>\n",
       "      <td>0.002538</td>\n",
       "      <td>0.003582</td>\n",
       "      <td>0.001036</td>\n",
       "      <td>-0.002384</td>\n",
       "      <td>1.000000</td>\n",
       "      <td>-0.001078</td>\n",
       "      <td>0.000391</td>\n",
       "      <td>0.002097</td>\n",
       "      <td>0.002914</td>\n",
       "      <td>-0.006528</td>\n",
       "    </tr>\n",
       "    <tr>\n",
       "      <th>time</th>\n",
       "      <td>0.297270</td>\n",
       "      <td>-0.359866</td>\n",
       "      <td>-0.241702</td>\n",
       "      <td>0.004380</td>\n",
       "      <td>0.385257</td>\n",
       "      <td>0.146029</td>\n",
       "      <td>-0.001078</td>\n",
       "      <td>1.000000</td>\n",
       "      <td>0.063321</td>\n",
       "      <td>0.419287</td>\n",
       "      <td>0.153057</td>\n",
       "      <td>0.291264</td>\n",
       "    </tr>\n",
       "    <tr>\n",
       "      <th>Weather</th>\n",
       "      <td>-0.006669</td>\n",
       "      <td>-0.029990</td>\n",
       "      <td>0.000457</td>\n",
       "      <td>0.000665</td>\n",
       "      <td>0.017844</td>\n",
       "      <td>0.015909</td>\n",
       "      <td>0.000391</td>\n",
       "      <td>0.063321</td>\n",
       "      <td>1.000000</td>\n",
       "      <td>0.002672</td>\n",
       "      <td>0.000295</td>\n",
       "      <td>-0.002462</td>\n",
       "    </tr>\n",
       "    <tr>\n",
       "      <th>Traffic</th>\n",
       "      <td>0.001146</td>\n",
       "      <td>-0.068713</td>\n",
       "      <td>0.010025</td>\n",
       "      <td>-0.000872</td>\n",
       "      <td>0.160169</td>\n",
       "      <td>0.056934</td>\n",
       "      <td>0.002097</td>\n",
       "      <td>0.419287</td>\n",
       "      <td>0.002672</td>\n",
       "      <td>1.000000</td>\n",
       "      <td>-0.006373</td>\n",
       "      <td>0.123092</td>\n",
       "    </tr>\n",
       "    <tr>\n",
       "      <th>vehicle</th>\n",
       "      <td>-0.001914</td>\n",
       "      <td>-0.025538</td>\n",
       "      <td>-0.633257</td>\n",
       "      <td>0.005163</td>\n",
       "      <td>0.066861</td>\n",
       "      <td>0.015387</td>\n",
       "      <td>0.002914</td>\n",
       "      <td>0.153057</td>\n",
       "      <td>0.000295</td>\n",
       "      <td>-0.006373</td>\n",
       "      <td>1.000000</td>\n",
       "      <td>0.054728</td>\n",
       "    </tr>\n",
       "    <tr>\n",
       "      <th>Festival_bin</th>\n",
       "      <td>0.058782</td>\n",
       "      <td>-0.062310</td>\n",
       "      <td>-0.085538</td>\n",
       "      <td>-0.003740</td>\n",
       "      <td>0.142618</td>\n",
       "      <td>0.003298</td>\n",
       "      <td>-0.006528</td>\n",
       "      <td>0.291264</td>\n",
       "      <td>-0.002462</td>\n",
       "      <td>0.123092</td>\n",
       "      <td>0.054728</td>\n",
       "      <td>1.000000</td>\n",
       "    </tr>\n",
       "  </tbody>\n",
       "</table>\n",
       "</div>"
      ],
      "text/plain": [
       "                         Delivery_person_Age  Delivery_person_Ratings  \\\n",
       "Delivery_person_Age                 1.000000                -0.114824   \n",
       "Delivery_person_Ratings            -0.114824                 1.000000   \n",
       "Vehicle_condition                   0.001101                 0.044343   \n",
       "Type_of_order                       0.007579                 0.001947   \n",
       "multiple_deliveries                 0.114877                -0.125098   \n",
       "City                                0.053179                -0.052789   \n",
       "Distance                            0.001453                -0.003143   \n",
       "time                                0.297270                -0.359866   \n",
       "Weather                            -0.006669                -0.029990   \n",
       "Traffic                             0.001146                -0.068713   \n",
       "vehicle                            -0.001914                -0.025538   \n",
       "Festival_bin                        0.058782                -0.062310   \n",
       "\n",
       "                         Vehicle_condition  Type_of_order  \\\n",
       "Delivery_person_Age               0.001101       0.007579   \n",
       "Delivery_person_Ratings           0.044343       0.001947   \n",
       "Vehicle_condition                 1.000000      -0.005315   \n",
       "Type_of_order                    -0.005315       1.000000   \n",
       "multiple_deliveries              -0.101605      -0.003443   \n",
       "City                             -0.027817       0.004190   \n",
       "Distance                          0.002538       0.003582   \n",
       "time                             -0.241702       0.004380   \n",
       "Weather                           0.000457       0.000665   \n",
       "Traffic                           0.010025      -0.000872   \n",
       "vehicle                          -0.633257       0.005163   \n",
       "Festival_bin                     -0.085538      -0.003740   \n",
       "\n",
       "                         multiple_deliveries      City  Distance      time  \\\n",
       "Delivery_person_Age                 0.114877  0.053179  0.001453  0.297270   \n",
       "Delivery_person_Ratings            -0.125098 -0.052789 -0.003143 -0.359866   \n",
       "Vehicle_condition                  -0.101605 -0.027817  0.002538 -0.241702   \n",
       "Type_of_order                      -0.003443  0.004190  0.003582  0.004380   \n",
       "multiple_deliveries                 1.000000  0.049926  0.001036  0.385257   \n",
       "City                                0.049926  1.000000 -0.002384  0.146029   \n",
       "Distance                            0.001036 -0.002384  1.000000 -0.001078   \n",
       "time                                0.385257  0.146029 -0.001078  1.000000   \n",
       "Weather                             0.017844  0.015909  0.000391  0.063321   \n",
       "Traffic                             0.160169  0.056934  0.002097  0.419287   \n",
       "vehicle                             0.066861  0.015387  0.002914  0.153057   \n",
       "Festival_bin                        0.142618  0.003298 -0.006528  0.291264   \n",
       "\n",
       "                          Weather   Traffic   vehicle  Festival_bin  \n",
       "Delivery_person_Age     -0.006669  0.001146 -0.001914      0.058782  \n",
       "Delivery_person_Ratings -0.029990 -0.068713 -0.025538     -0.062310  \n",
       "Vehicle_condition        0.000457  0.010025 -0.633257     -0.085538  \n",
       "Type_of_order            0.000665 -0.000872  0.005163     -0.003740  \n",
       "multiple_deliveries      0.017844  0.160169  0.066861      0.142618  \n",
       "City                     0.015909  0.056934  0.015387      0.003298  \n",
       "Distance                 0.000391  0.002097  0.002914     -0.006528  \n",
       "time                     0.063321  0.419287  0.153057      0.291264  \n",
       "Weather                  1.000000  0.002672  0.000295     -0.002462  \n",
       "Traffic                  0.002672  1.000000 -0.006373      0.123092  \n",
       "vehicle                  0.000295 -0.006373  1.000000      0.054728  \n",
       "Festival_bin            -0.002462  0.123092  0.054728      1.000000  "
      ]
     },
     "execution_count": 25,
     "metadata": {},
     "output_type": "execute_result"
    }
   ],
   "source": [
    "df.corr()"
   ]
  },
  {
   "cell_type": "code",
   "execution_count": 26,
   "id": "54d9840a",
   "metadata": {},
   "outputs": [],
   "source": [
    "df = df.dropna() # 1, 2, 3, 5,8,9,"
   ]
  },
  {
   "cell_type": "markdown",
   "id": "2433e098",
   "metadata": {},
   "source": [
    "## 1. weather condiotions"
   ]
  },
  {
   "cell_type": "code",
   "execution_count": 27,
   "id": "b4f36f03",
   "metadata": {},
   "outputs": [
    {
     "data": {
      "image/png": "[encoded data removed]",
      "text/plain": [
       "<Figure size 640x480 with 1 Axes>"
      ]
     },
     "metadata": {},
     "output_type": "display_data"
    }
   ],
   "source": [
    "df[['time','Weather']].groupby(['Weather']).mean().plot.bar()\n",
    "plt.title(\"Weather Conditions vs  time\")\n",
    "plt.ylabel('Time')\n",
    "plt.xlabel(\"\"\" \\n 0 - Sunny\n",
    "2 - Stormy\n",
    "4 - Sandstorms\n",
    "0 - Cloudy\n",
    "3 - Fog\n",
    "1 - Windy\"\"\")\n",
    "plt.show()"
   ]
  },
  {
   "cell_type": "markdown",
   "id": "93deff95",
   "metadata": {},
   "source": [
    "## 2. Traffic"
   ]
  },
  {
   "cell_type": "code",
   "execution_count": 28,
   "id": "f44b6b18",
   "metadata": {},
   "outputs": [
    {
     "data": {
      "image/png": "[encoded data removed]",
      "text/plain": [
       "<Figure size 640x480 with 1 Axes>"
      ]
     },
     "metadata": {},
     "output_type": "display_data"
    }
   ],
   "source": [
    "df[['Traffic','time']].groupby(['Traffic']).mean().plot.bar()\n",
    "plt.title(\"Traffic vs  time\")\n",
    "plt.ylabel('Time')\n",
    "plt.xlabel(\"\"\" \\n0 - Low\n",
    "1 - Medium\n",
    "2 - High\n",
    "3 - Jam\"\"\")\n",
    "plt.show()"
   ]
  },
  {
   "cell_type": "markdown",
   "id": "e5b9efb8",
   "metadata": {},
   "source": [
    "## 3. type of order"
   ]
  },
  {
   "cell_type": "code",
   "execution_count": 29,
   "id": "7d4cc547",
   "metadata": {},
   "outputs": [
    {
     "data": {
      "image/png": "[encoded data removed]",
      "text/plain": [
       "<Figure size 640x480 with 1 Axes>"
      ]
     },
     "metadata": {},
     "output_type": "display_data"
    }
   ],
   "source": [
    "df[['Type_of_order','time']].groupby(['Type_of_order']).mean().plot.bar()\n",
    "plt.title(\"Type_of_order vs  time\")\n",
    "plt.ylabel('Time')\n",
    "plt.xlabel(''' \\n1 - Snack\n",
    "0 - Drinks\n",
    "3 - Buffet\n",
    "2 - Meal''')\n",
    "plt.show()"
   ]
  },
  {
   "cell_type": "markdown",
   "id": "0da34451",
   "metadata": {},
   "source": [
    "## 4. Type of vehivle"
   ]
  },
  {
   "cell_type": "code",
   "execution_count": 30,
   "id": "ba73af98",
   "metadata": {},
   "outputs": [
    {
     "data": {
      "image/png": "[encoded data removed]",
      "text/plain": [
       "<Figure size 640x480 with 1 Axes>"
      ]
     },
     "metadata": {},
     "output_type": "display_data"
    }
   ],
   "source": [
    "df[['vehicle','time']].groupby(['vehicle']).mean().plot.bar()\n",
    "plt.title(\"vehicle vs  time\")\n",
    "plt.ylabel('Time')\n",
    "plt.xlabel('''\\n3 - motorcycle\n",
    "2 - scooter\n",
    "1 - electric_scooter\n",
    "0 - bicycle''')\n",
    "plt.show()"
   ]
  },
  {
   "cell_type": "markdown",
   "id": "6e44ed9d",
   "metadata": {},
   "source": [
    "## 6.  City"
   ]
  },
  {
   "cell_type": "code",
   "execution_count": 32,
   "id": "022c1f9b",
   "metadata": {},
   "outputs": [
    {
     "data": {
      "image/png": "[encoded data removed]",
      "text/plain": [
       "<Figure size 640x480 with 1 Axes>"
      ]
     },
     "metadata": {},
     "output_type": "display_data"
    }
   ],
   "source": [
    "df[['City','time']].groupby(['City']).mean().plot.bar()\n",
    "plt.title(\"City vs  time\")\n",
    "plt.ylabel('Time')\n",
    "plt.xlabel(\"\"\"0 - Semi-Urban\n",
    "1 - Urban\n",
    "2 - Metropolitian\"\"\")\n",
    "plt.show()"
   ]
  },
  {
   "cell_type": "code",
   "execution_count": null,
   "id": "2d2901b0",
   "metadata": {},
   "outputs": [],
   "source": []
  },
  {
   "cell_type": "code",
   "execution_count": null,
   "id": "8dd6c3dc",
   "metadata": {},
   "outputs": [],
   "source": [
    "x = df[['Delivery_person_Age', 'Delivery_person_Ratings', 'Vehicle_condition',\n",
    "       'Type_of_order', 'multiple_deliveries', 'City', 'Distance',\n",
    "       'Weather', 'Traffic', 'vehicle', 'Festival_bin']]\n",
    "y = df['time']"
   ]
  },
  {
   "cell_type": "code",
   "execution_count": null,
   "id": "0197ef27",
   "metadata": {},
   "outputs": [],
   "source": [
    "x =df[ ['Delivery_person_Age','Delivery_person_Ratings','Vehicle_condition','multiple_deliveries','Traffic','vehicle','Festival_bin']]\n",
    "y = df['time']"
   ]
  },
  {
   "cell_type": "code",
   "execution_count": null,
   "id": "a324d0c1",
   "metadata": {},
   "outputs": [],
   "source": [
    "from sklearn import linear_model\n",
    "from sklearn.model_selection import train_test_split\n",
    "x_train,x_test,y_train,y_test= train_test_split(x,y,test_size=0.3,)    "
   ]
  },
  {
   "cell_type": "code",
   "execution_count": null,
   "id": "a350da5a",
   "metadata": {},
   "outputs": [],
   "source": [
    "from sklearn.linear_model import LinearRegression\n",
    "mlr = LinearRegression( )\n",
    "mlr.fit( x_train, y_train) # regression line fitting\n",
    "y_pred = mlr.predict(x_test)"
   ]
  },
  {
   "cell_type": "code",
   "execution_count": null,
   "id": "e10fc5fa",
   "metadata": {},
   "outputs": [],
   "source": [
    "from sklearn.metrics import r2_score\n",
    "r2_score(y_test,y_pred)"
   ]
  },
  {
   "cell_type": "markdown",
   "id": "0e82b7f4",
   "metadata": {},
   "source": [
    "## Randomforest regrwsssior"
   ]
  },
  {
   "cell_type": "code",
   "execution_count": null,
   "id": "7cbdb737",
   "metadata": {},
   "outputs": [],
   "source": [
    "from sklearn.ensemble import RandomForestRegressor\n",
    "rfr = RandomForestRegressor(n_estimators = 100)\n",
    "rfr.fit(x, y)\n",
    "y_pred = rfr.predict(x_test)"
   ]
  },
  {
   "cell_type": "code",
   "execution_count": null,
   "id": "b179b1e6",
   "metadata": {},
   "outputs": [],
   "source": [
    "from sklearn.metrics import r2_score\n",
    "r2_score(y_test,y_pred) * 100\n",
    "  "
   ]
  },
  {
   "cell_type": "code",
   "execution_count": null,
   "id": "93a0d7d6",
   "metadata": {},
   "outputs": [],
   "source": [
    "## Result plotting"
   ]
  },
  {
   "cell_type": "code",
   "execution_count": null,
   "id": "95b0833c",
   "metadata": {},
   "outputs": [],
   "source": [
    "df.corr()"
   ]
  },
  {
   "cell_type": "code",
   "execution_count": null,
   "id": "54fc8a8f",
   "metadata": {},
   "outputs": [],
   "source": []
  }
 ],
 "metadata": {
  "kernelspec": {
   "display_name": "Python 3 (ipykernel)",
   "language": "python",
   "name": "python3"
  },
  "language_info": {
   "codemirror_mode": {
    "name": "ipython",
    "version": 3
   },
   "file_extension": ".py",
   "mimetype": "text/x-python",
   "name": "python",
   "nbconvert_exporter": "python",
   "pygments_lexer": "ipython3",
   "version": "3.11.5"
  }
 },
 "nbformat": 4,
 "nbformat_minor": 5
}
